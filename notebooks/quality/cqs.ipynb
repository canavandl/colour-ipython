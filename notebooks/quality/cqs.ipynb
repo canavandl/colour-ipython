{
 "metadata": {
  "name": "",
  "signature": "sha256:3f4c4a476b6636a8e6b7135289f1dd0cacf1afd54796a83a4371ae254b1ed302"
 },
 "nbformat": 3,
 "nbformat_minor": 0,
 "worksheets": [
  {
   "cells": [
    {
     "cell_type": "heading",
     "level": 1,
     "metadata": {},
     "source": [
      "!!! D . R . A . F . T !!!"
     ]
    },
    {
     "cell_type": "heading",
     "level": 2,
     "metadata": {},
     "source": [
      "Colour Rendering Index"
     ]
    },
    {
     "cell_type": "heading",
     "level": 1,
     "metadata": {},
     "source": [
      "References"
     ]
    }
   ],
   "metadata": {}
  }
 ]
}